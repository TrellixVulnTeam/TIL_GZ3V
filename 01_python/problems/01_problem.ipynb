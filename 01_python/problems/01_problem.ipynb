{
 "cells": [
  {
   "cell_type": "markdown",
   "metadata": {},
   "source": [
    "# 상승장? 하락장?\n",
    "\n",
    "> 최고가와 최저가의 차이를 변동폭으로 정의할 때 (시가 + 변동폭)이 최고가 보다 높을 경우 \"상승장\", 그렇지 않은 경우 \"하락장\" 문자열을 출력하라.\n",
    "\n",
    ">>변동폭 : 최고가와 최저가의 차이\n",
    "시가 : 시작가\n",
    "상승장 : 시가 + 변동폭이 최고가보다 높은 경우\n",
    "\n",
    "|Key Name|Description|\n",
    "|------|---|\n",
    "|opeing_price|최근 24시간 내 시작 거래금액|\n",
    "|closing_price|최근 24시간 내 마지막 거래금액|\n",
    "|min_price|최근 24시간 내 최저 거래금액|\n",
    "|max_price|최근 24시간 내 최고 거래금액|"
   ]
  },
  {
   "cell_type": "code",
   "execution_count": null,
   "metadata": {},
   "outputs": [],
   "source": [
    "import requests\n",
    "from pprint import pprint\n",
    "\n",
    "url = \"https://api.bithumb.com/public/ticker/btc\"\n",
    "data = requests.get(url).json()['data']\n",
    "pprint(data)#print도 pprint로 해야 정렬됨"
   ]
  },
  {
   "cell_type": "code",
   "execution_count": null,
   "metadata": {},
   "outputs": [],
   "source": [
    "\n",
    "maxprice = int(data['max_price'])\n",
    "#maxprice = int(data.get('max_price'))\n",
    "minprice = int(data['min_price'])\n",
    "gap = maxprice - minprice\n",
    "openingprice = int(data['opening_price'])\n",
    "\n",
    "\n",
    "if openingprice + gap > maxprice:\n",
    "    print('상승장')\n",
    "else:\n",
    "    print('하락장')"
   ]
  },
  {
   "cell_type": "code",
   "execution_count": null,
   "metadata": {},
   "outputs": [],
   "source": [
    "gap = int(data.get('max_price')) - int(data.get('min_price'))\n",
    "\n",
    "if int(data.get('opening_price')) + gap > int(data.get('max_price')):\n",
    "    print('상승장')\n",
    "else:\n",
    "    print('하락장')"
   ]
  },
  {
   "cell_type": "markdown",
   "metadata": {},
   "source": [
    "# 모음 제거하기\n",
    "\n",
    "> 다음 문장의 모음을 제거하여 출력하세요.\n",
    "\n",
    "```\n",
    "예시 입력)\n",
    "\"Life is too short, you need python\"\n",
    "예시 출력)\n",
    "Lf s t shrt, y nd pythn\n",
    "```"
   ]
  },
  {
   "cell_type": "code",
   "execution_count": null,
   "metadata": {},
   "outputs": [],
   "source": [
    "my_str = \"Life is too short, you need python\""
   ]
  },
  {
   "cell_type": "code",
   "execution_count": null,
   "metadata": {},
   "outputs": [],
   "source": [
    "# 아래에 코드를 작성하세요.\n",
    "#승현씨 코드\n",
    "# a = ['a', 'e', 'i', 'o', 'u']\n",
    "# for i in a:\n",
    "#     my_str=my_str.replace(i, '')\n",
    "# print(my_str)\n"
   ]
  },
  {
   "cell_type": "code",
   "execution_count": null,
   "metadata": {},
   "outputs": [],
   "source": [
    "#1번째 방법\n",
    "result=''#여기에 모음을 빼야겠다\n",
    "for char in my_str:#문자열을 하나하나 돌면서\n",
    "    #모음이 아니면 기록하기\n",
    "    if char != 'a' and char != 'e' and char != 'i' and char != 'o' and char != 'u':\n",
    "        result += char\n",
    "print(result)"
   ]
  },
  {
   "cell_type": "code",
   "execution_count": null,
   "metadata": {},
   "outputs": [],
   "source": [
    "그럼 하나하나씩 돌면서 모음이면 기록하지 않고, 모음이 아니면 기록해야겠다!\n",
    "기록할 변수가 필요하네?\n",
    "그럼 빈 변수를 하나 만들어야겠다\n",
    "이런 식의 접근이 중요합니다."
   ]
  },
  {
   "cell_type": "code",
   "execution_count": null,
   "metadata": {},
   "outputs": [],
   "source": [
    "#2번째 방법\n",
    "#각각의 비교가 아니라 어떤 통 안에 들어있나 없나 판단해보기\n",
    "vowels = ['a', 'e', 'i', 'o', 'u']\n",
    "#vowels = 'aeiou' 이렇게 문자열로 해도 괜찮음\n",
    "result =''\n",
    "\n",
    "\n",
    "for char in my_str:\n",
    "    if char not in vowels:\n",
    "        result += char\n",
    "print(result)"
   ]
  },
  {
   "cell_type": "code",
   "execution_count": null,
   "metadata": {},
   "outputs": [],
   "source": [
    "#3번째 방법\n",
    "#새로운 변수를 만드는 게 아니라 원본을 수정\n",
    "\n",
    "vowels = 'aeiou'\n",
    "for vowel in vowels:\n",
    "    my_str = my_str.replace(vowel, '')\n",
    "print(my_str)"
   ]
  }
 ],
 "metadata": {
  "kernelspec": {
   "display_name": "Python 3",
   "language": "python",
   "name": "python3"
  },
  "language_info": {
   "codemirror_mode": {
    "name": "ipython",
    "version": 3
   },
   "file_extension": ".py",
   "mimetype": "text/x-python",
   "name": "python",
   "nbconvert_exporter": "python",
   "pygments_lexer": "ipython3",
   "version": "3.7.3"
  },
  "toc": {
   "base_numbering": 1,
   "nav_menu": {},
   "number_sections": true,
   "sideBar": true,
   "skip_h1_title": false,
   "title_cell": "Table of Contents",
   "title_sidebar": "Contents",
   "toc_cell": false,
   "toc_position": {},
   "toc_section_display": true,
   "toc_window_display": false
  }
 },
 "nbformat": 4,
 "nbformat_minor": 2
}
