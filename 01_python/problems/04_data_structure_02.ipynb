{
 "cells": [
  {
   "cell_type": "markdown",
   "metadata": {},
   "source": [
    "# 메소드 없는 세상 <1>\n",
    "\n",
    "> 알파벳으로 이뤄진 word를 입력받아 알파벳 대소문자를 서로 교환한 결과를 반환하는 `my_swapcase(word)`를 작성해주세요.\n",
    "\n",
    "**`.upper()`, `.lower()`, `swapcase()`는 사용하지 말아주세요.**\n",
    "\n",
    "**Tip! 문자와 숫자에는 특별한 관계가 있습니다. Google에서 아스키 코드를 참고하세요**\n",
    "\n",
    "```python\n",
    "# 예시\n",
    "print(my_swapcase('hello, World!')) # => HELLO, wORLD!\n",
    "print(my_swapcase('@_@')) # => @_@\n",
    "print(my_swapcase('2^3은 8이다!')) # => 2^3은 8이다!\n",
    "```"
   ]
  },
  {
   "cell_type": "code",
   "execution_count": null,
   "metadata": {},
   "outputs": [],
   "source": [
    "# 아래에 코드를 작성해주세요."
   ]
  },
  {
   "cell_type": "code",
   "execution_count": null,
   "metadata": {},
   "outputs": [],
   "source": [
    "print(ord('a') + 32)\n",
    "print(ord('ABCDEFGHIJKLMNOPQRSTUVWXYZ'))"
   ]
  },
  {
   "cell_type": "code",
   "execution_count": null,
   "metadata": {},
   "outputs": [],
   "source": [
    "def my_swapcase(word):\n",
    "    swap_word = ''\n",
    "    for i in word:\n",
    "        if 65 <= ord(i) <= 90:\n",
    "            j = i\n",
    "            \n",
    "            ord(j)  = ord(i) + 32\n",
    "        elif 97 <= ord(i) <= 122:\n",
    "            j = i\n",
    "            ord(j) = ord(i) -32\n",
    "        else:\n",
    "            j = i\n",
    "        swap_word += j\n",
    "        \n",
    "    return swap_word         \n",
    "    "
   ]
  },
  {
   "cell_type": "code",
   "execution_count": null,
   "metadata": {},
   "outputs": [],
   "source": [
    "print(my_swapcase('hello, World!'))\n",
    "print(my_swapcase('@_@'))\n",
    "print(my_swapcase('2^3은 8이다!'))"
   ]
  },
  {
   "cell_type": "markdown",
   "metadata": {},
   "source": [
    "# 메소드 없는 세상 <2>\n",
    "\n",
    "> 우리는 문자열을 만들어 나갈 때, `.join(iterable)` 함수를 사용합니다. \n",
    ">\n",
    "> `.join(iterable)`이 생각나지 않을 때를 위해 직접 만들어보면서 감사함을 느껴봅시다.\n",
    ">\n",
    "> `my_join(target, word)`를 만들어 문자열을 반환해주세요.\n",
    ">\n",
    "> target은 바꿀 대상(iterable)이며, word는 합쳐지는 단어입니다. \n",
    "\n",
    "---\n",
    "\n",
    "\n",
    "예시)\n",
    "\n",
    "`''.join(a)` 와 `my_join(a, '')`은 같은 함수 호출입니다.\n",
    "\n",
    "```python\n",
    "print(my_join('배고파', '.')) # => 배.고.파\n",
    "print(my_join(['1', '2', '3'], '')) # => 123\n",
    "```"
   ]
  },
  {
   "cell_type": "code",
   "execution_count": null,
   "metadata": {},
   "outputs": [],
   "source": [
    "# 아래에 코드를 작성해주세요."
   ]
  },
  {
   "cell_type": "code",
   "execution_count": 37,
   "metadata": {},
   "outputs": [],
   "source": [
    "def my_join(target, word):\n",
    "    result = ''\n",
    "    for i in target[:-1]:\n",
    "        result += i + word\n",
    "    result += target[-1]\n",
    "    return result"
   ]
  },
  {
   "cell_type": "code",
   "execution_count": 38,
   "metadata": {},
   "outputs": [
    {
     "name": "stdout",
     "output_type": "stream",
     "text": [
      "배.고.파\n",
      "123\n"
     ]
    }
   ],
   "source": [
    "print(my_join('배고파', '.'))\n",
    "print(my_join(['1', '2', '3'], ''))"
   ]
  },
  {
   "cell_type": "markdown",
   "metadata": {},
   "source": [
    "#  가능한 적게 변경하기\n",
    "\n",
    "> 대문자와 소문자가 혼합되어 있는 문자열어 주어지며\n",
    ">\n",
    "> 다음의 기준에 따라서 문자열을 소문자 혹은 대문자로 변환하세요.\n",
    "\n",
    "\n",
    "*  가능한 적게 변경하세요.\n",
    "*  만약에 문자열의 대문자 혹은 소문자가 같다면, 문자열을 모두 소문자로 변경하세요.\n",
    "\n",
    "--- \n",
    "\n",
    "```python\n",
    "# 예시 입력) \n",
    "print(solve('coDe'))\n",
    "print(solve('CODe'))\n",
    "print(solve('coDE'))\n",
    "\n",
    "# 예시 출력)\n",
    "'code'\n",
    "'CODE'\n",
    "'code'\n",
    "```"
   ]
  },
  {
   "cell_type": "code",
   "execution_count": null,
   "metadata": {},
   "outputs": [],
   "source": [
    "# 아래에 코드를 작성해주세요."
   ]
  },
  {
   "cell_type": "code",
   "execution_count": null,
   "metadata": {},
   "outputs": [],
   "source": [
    "def solve(words):\n",
    "    upper_str = ''\n",
    "    lower_str = ''\n",
    "    for word in words:\n",
    "        if word.isupper():\n",
    "            upper_str += word\n",
    "        else:\n",
    "            lower_str += word\n",
    "    if len(lower_str) >= len(upper_str):\n",
    "        return words.lower()\n",
    "    else:\n",
    "        return words.upper()"
   ]
  },
  {
   "cell_type": "code",
   "execution_count": null,
   "metadata": {},
   "outputs": [],
   "source": [
    "print(solve('coDe'))\n",
    "print(solve('CODe'))\n",
    "print(solve('coDE'))"
   ]
  },
  {
   "cell_type": "markdown",
   "metadata": {},
   "source": [
    "# 숨바꼭질\n",
    "\n",
    "> 숫자가 주어지면, 사용되지 않은 숫자를 프린트하세요.\n",
    "\n",
    "---\n",
    "\n",
    "```python\n",
    "# 예시)\n",
    "unused_digits(12, 34, 56, 78) # => '09'\n",
    "\n",
    "unused_digits(2015, 8, 26)  # => '3479'\n",
    "```\n",
    "\n",
    "\n",
    "**결과값은 정렬되어야 합니다.**\n",
    "\n"
   ]
  },
  {
   "cell_type": "code",
   "execution_count": null,
   "metadata": {},
   "outputs": [],
   "source": [
    "# 아래에 코드를 작성해주세요."
   ]
  },
  {
   "cell_type": "code",
   "execution_count": 121,
   "metadata": {},
   "outputs": [],
   "source": [
    "def unused_digits(*args):\n",
    "    numbers = [range(10)]\n",
    "    for i in args:\n",
    "        if str(i) in numbers:\n",
    "            numbers -= i\n",
    "    print(numbers)"
   ]
  },
  {
   "cell_type": "code",
   "execution_count": 122,
   "metadata": {},
   "outputs": [
    {
     "name": "stdout",
     "output_type": "stream",
     "text": [
      "[range(0, 10)]\n",
      "None\n",
      "[range(0, 10)]\n",
      "None\n"
     ]
    }
   ],
   "source": [
    "print(unused_digits(12, 34, 56, 78))\n",
    "print(unused_digits(2015, 8, 26))"
   ]
  },
  {
   "cell_type": "markdown",
   "metadata": {},
   "source": [
    "# 짝홀짝홀"
   ]
  },
  {
   "cell_type": "markdown",
   "metadata": {},
   "source": [
    "> n개의 양의 정수 리스트가 주어지면, 홀수와 짝수를 분리하고 각각의 조건에 맞게 홀수와 짝수를 \n",
    "정렬하세요.\n",
    "\n",
    "> 조건\n",
    "1. 짝수와 홀수가 번갈아 가면서 나오게 됩니다.\n",
    "2. 짝수가 먼저 시작됩니다.\n",
    "3. 짝수는 오름차순으로 홀수는 내림차순으로 되어야합니다.\n",
    "\n",
    "> 실습 입력 인자 조건\n",
    "1. 인자 리스트의 크기는 적어도 4이상입니다.\n",
    "2. 인자 리스트의 요소값으로 0은 존재하지 않습니다.\n",
    "3. 인자 리스트의 요소값이 반복될 수 있으나 출력할 때는 중복 값이 없습니다.\n",
    "\n",
    "```python\n",
    "# 예시) \n",
    "\n",
    "print(even_and_odd([7, 3 , 14 , 17]))\n",
    "# => [14, 17, 7, 3]\n",
    "\n",
    "print(even_and_odd([1, 3, 5, 7, 9, 11]))\n",
    "# => [11, 9, 7, 5, 3, 1]\n",
    "\n",
    "print(even_and_odd([1, 2, 2, 4, 4, 6, 6, 2004, 9, 11]))\n",
    "# => [2, 11, 4, 9, 6, 1, 2004]\n",
    "```"
   ]
  },
  {
   "cell_type": "code",
   "execution_count": null,
   "metadata": {},
   "outputs": [],
   "source": [
    "# 여기에 코드를 작성하세요\n",
    "help"
   ]
  },
  {
   "cell_type": "code",
   "execution_count": 115,
   "metadata": {},
   "outputs": [],
   "source": [
    "def even_and_odd(int_list):\n",
    "    evens = []\n",
    "    odds = []\n",
    "    result = []\n",
    "    for i in int_list:\n",
    "        if i % 2:\n",
    "            if i not in odds:\n",
    "                odds.append(i)\n",
    "        else:\n",
    "            if i not in evens:\n",
    "                evens.append(i)\n",
    "    even_ = sorted(evens)\n",
    "    print(even_)\n",
    "    odd_ = sorted(odds, reverse=True)\n",
    "    print(odd_)\n",
    "    for i in even_, odd_:\n",
    "        result.append(evens[i])\n",
    "        result.append(odds[i])\n",
    "    return result\n"
   ]
  },
  {
   "cell_type": "code",
   "execution_count": 116,
   "metadata": {
    "scrolled": true
   },
   "outputs": [
    {
     "name": "stdout",
     "output_type": "stream",
     "text": [
      "[14]\n",
      "[17, 7, 3]\n"
     ]
    },
    {
     "ename": "TypeError",
     "evalue": "list indices must be integers or slices, not list",
     "output_type": "error",
     "traceback": [
      "\u001b[1;31m---------------------------------------------------------------------------\u001b[0m",
      "\u001b[1;31mTypeError\u001b[0m                                 Traceback (most recent call last)",
      "\u001b[1;32m<ipython-input-116-9bcfd1908ed4>\u001b[0m in \u001b[0;36m<module>\u001b[1;34m\u001b[0m\n\u001b[1;32m----> 1\u001b[1;33m \u001b[0mprint\u001b[0m\u001b[1;33m(\u001b[0m\u001b[0meven_and_odd\u001b[0m\u001b[1;33m(\u001b[0m\u001b[1;33m[\u001b[0m\u001b[1;36m7\u001b[0m\u001b[1;33m,\u001b[0m \u001b[1;36m3\u001b[0m\u001b[1;33m,\u001b[0m \u001b[1;36m14\u001b[0m\u001b[1;33m,\u001b[0m \u001b[1;36m17\u001b[0m\u001b[1;33m]\u001b[0m\u001b[1;33m)\u001b[0m\u001b[1;33m)\u001b[0m\u001b[1;33m\u001b[0m\u001b[1;33m\u001b[0m\u001b[0m\n\u001b[0m\u001b[0;32m      2\u001b[0m \u001b[0mprint\u001b[0m\u001b[1;33m(\u001b[0m\u001b[0meven_and_odd\u001b[0m\u001b[1;33m(\u001b[0m\u001b[1;33m[\u001b[0m\u001b[1;36m1\u001b[0m\u001b[1;33m,\u001b[0m \u001b[1;36m3\u001b[0m\u001b[1;33m,\u001b[0m \u001b[1;36m5\u001b[0m\u001b[1;33m,\u001b[0m \u001b[1;36m7\u001b[0m\u001b[1;33m,\u001b[0m \u001b[1;36m9\u001b[0m\u001b[1;33m,\u001b[0m \u001b[1;36m11\u001b[0m\u001b[1;33m]\u001b[0m\u001b[1;33m)\u001b[0m\u001b[1;33m)\u001b[0m\u001b[1;33m\u001b[0m\u001b[1;33m\u001b[0m\u001b[0m\n\u001b[0;32m      3\u001b[0m \u001b[0mprint\u001b[0m\u001b[1;33m(\u001b[0m\u001b[0meven_and_odd\u001b[0m\u001b[1;33m(\u001b[0m\u001b[1;33m[\u001b[0m\u001b[1;36m1\u001b[0m\u001b[1;33m,\u001b[0m \u001b[1;36m2\u001b[0m\u001b[1;33m,\u001b[0m \u001b[1;36m2\u001b[0m\u001b[1;33m,\u001b[0m \u001b[1;36m4\u001b[0m\u001b[1;33m,\u001b[0m \u001b[1;36m4\u001b[0m\u001b[1;33m,\u001b[0m \u001b[1;36m6\u001b[0m\u001b[1;33m,\u001b[0m \u001b[1;36m6\u001b[0m\u001b[1;33m,\u001b[0m \u001b[1;36m2004\u001b[0m\u001b[1;33m,\u001b[0m \u001b[1;36m9\u001b[0m\u001b[1;33m,\u001b[0m \u001b[1;36m11\u001b[0m\u001b[1;33m]\u001b[0m\u001b[1;33m)\u001b[0m\u001b[1;33m)\u001b[0m\u001b[1;33m\u001b[0m\u001b[1;33m\u001b[0m\u001b[0m\n",
      "\u001b[1;32m<ipython-input-115-b6ed87b19ae6>\u001b[0m in \u001b[0;36meven_and_odd\u001b[1;34m(int_list)\u001b[0m\n\u001b[0;32m     15\u001b[0m     \u001b[0mprint\u001b[0m\u001b[1;33m(\u001b[0m\u001b[0modd_\u001b[0m\u001b[1;33m)\u001b[0m\u001b[1;33m\u001b[0m\u001b[1;33m\u001b[0m\u001b[0m\n\u001b[0;32m     16\u001b[0m     \u001b[1;32mfor\u001b[0m \u001b[0mi\u001b[0m \u001b[1;32min\u001b[0m \u001b[0meven_\u001b[0m\u001b[1;33m,\u001b[0m \u001b[0modd_\u001b[0m\u001b[1;33m:\u001b[0m\u001b[1;33m\u001b[0m\u001b[1;33m\u001b[0m\u001b[0m\n\u001b[1;32m---> 17\u001b[1;33m         \u001b[0mresult\u001b[0m\u001b[1;33m.\u001b[0m\u001b[0mappend\u001b[0m\u001b[1;33m(\u001b[0m\u001b[0mevens\u001b[0m\u001b[1;33m[\u001b[0m\u001b[0mi\u001b[0m\u001b[1;33m]\u001b[0m\u001b[1;33m)\u001b[0m\u001b[1;33m\u001b[0m\u001b[1;33m\u001b[0m\u001b[0m\n\u001b[0m\u001b[0;32m     18\u001b[0m         \u001b[0mresult\u001b[0m\u001b[1;33m.\u001b[0m\u001b[0mappend\u001b[0m\u001b[1;33m(\u001b[0m\u001b[0modds\u001b[0m\u001b[1;33m[\u001b[0m\u001b[0mi\u001b[0m\u001b[1;33m]\u001b[0m\u001b[1;33m)\u001b[0m\u001b[1;33m\u001b[0m\u001b[1;33m\u001b[0m\u001b[0m\n\u001b[0;32m     19\u001b[0m     \u001b[1;32mreturn\u001b[0m \u001b[0mresult\u001b[0m\u001b[1;33m\u001b[0m\u001b[1;33m\u001b[0m\u001b[0m\n",
      "\u001b[1;31mTypeError\u001b[0m: list indices must be integers or slices, not list"
     ]
    }
   ],
   "source": [
    "print(even_and_odd([7, 3, 14, 17]))\n",
    "print(even_and_odd([1, 3, 5, 7, 9, 11]))\n",
    "print(even_and_odd([1, 2, 2, 4, 4, 6, 6, 2004, 9, 11]))"
   ]
  },
  {
   "cell_type": "markdown",
   "metadata": {},
   "source": [
    "# 문자열 계산하기\n",
    "\n",
    "> 아래와 같이 문자열이 주어졌을 때, 바보같은 사용자를 위해 계산을 해주려고 한다.\n",
    ">\n",
    "> 이 계산기는 더하기와 빼기밖에 못한다.\n",
    ">\n",
    "> `calc(equation)`을 만들어봅시다.\n",
    "\n",
    "\n",
    "```python\n",
    "# 예시\n",
    "calc('123+2-124')\n",
    "#=> 1\n",
    "\n",
    "calc('-12+12-7979+9191')\n",
    "#=> 1212\n",
    "\n",
    "calc('+1-1+1-1+1-1+1-1+1-1+1-1+1-1+1-1+1-1+1-1+1-1+1-1+1-1+1-1+1-1+1-1')\n",
    "#=> 0\n",
    "```"
   ]
  },
  {
   "cell_type": "code",
   "execution_count": 111,
   "metadata": {
    "scrolled": true
   },
   "outputs": [
    {
     "ename": "SyntaxError",
     "evalue": "invalid syntax (<ipython-input-111-badff0e9a48e>, line 2)",
     "output_type": "error",
     "traceback": [
      "\u001b[1;36m  File \u001b[1;32m\"<ipython-input-111-badff0e9a48e>\"\u001b[1;36m, line \u001b[1;32m2\u001b[0m\n\u001b[1;33m    type(+)\u001b[0m\n\u001b[1;37m          ^\u001b[0m\n\u001b[1;31mSyntaxError\u001b[0m\u001b[1;31m:\u001b[0m invalid syntax\n"
     ]
    }
   ],
   "source": []
  },
  {
   "cell_type": "code",
   "execution_count": 112,
   "metadata": {},
   "outputs": [],
   "source": [
    "def calc(equation):\n",
    "    result = 0\n",
    "    num = ''\n",
    "    \n",
    "    for i in equation:\n",
    "        if i.isdecimal():\n",
    "            num += word\n",
    "        else:\n",
    "            result += int(num)\n",
    "            result + i\n",
    "            num = ''\n",
    "    return result"
   ]
  },
  {
   "cell_type": "code",
   "execution_count": 110,
   "metadata": {},
   "outputs": [
    {
     "ename": "ValueError",
     "evalue": "invalid literal for int() with base 10: '123+2-124'",
     "output_type": "error",
     "traceback": [
      "\u001b[1;31m---------------------------------------------------------------------------\u001b[0m",
      "\u001b[1;31mValueError\u001b[0m                                Traceback (most recent call last)",
      "\u001b[1;32m<ipython-input-110-a6ee66c6c792>\u001b[0m in \u001b[0;36m<module>\u001b[1;34m\u001b[0m\n\u001b[1;32m----> 1\u001b[1;33m \u001b[0mprint\u001b[0m\u001b[1;33m(\u001b[0m\u001b[0mcalc\u001b[0m\u001b[1;33m(\u001b[0m\u001b[1;34m'123+2-124'\u001b[0m\u001b[1;33m)\u001b[0m\u001b[1;33m)\u001b[0m\u001b[1;33m\u001b[0m\u001b[1;33m\u001b[0m\u001b[0m\n\u001b[0m\u001b[0;32m      2\u001b[0m \u001b[0mprint\u001b[0m\u001b[1;33m(\u001b[0m\u001b[0mcalc\u001b[0m\u001b[1;33m(\u001b[0m\u001b[1;34m'-12+12-7979+9191'\u001b[0m\u001b[1;33m)\u001b[0m\u001b[1;33m)\u001b[0m\u001b[1;33m\u001b[0m\u001b[1;33m\u001b[0m\u001b[0m\n\u001b[0;32m      3\u001b[0m \u001b[0mprint\u001b[0m\u001b[1;33m(\u001b[0m\u001b[0mcalc\u001b[0m\u001b[1;33m(\u001b[0m\u001b[1;34m'+1-1+1-1+1-1+1-1+1-1+1-1+1-1+1-1+1-1+1-1+1-1+1-1+1-1+1-1+1-1+1-1'\u001b[0m\u001b[1;33m)\u001b[0m\u001b[1;33m)\u001b[0m\u001b[1;33m\u001b[0m\u001b[1;33m\u001b[0m\u001b[0m\n",
      "\u001b[1;32m<ipython-input-109-c9b587cdc934>\u001b[0m in \u001b[0;36mcalc\u001b[1;34m(equation)\u001b[0m\n\u001b[0;32m      3\u001b[0m         \u001b[1;32mif\u001b[0m \u001b[1;32mnot\u001b[0m \u001b[0mi\u001b[0m\u001b[1;33m.\u001b[0m\u001b[0misdecimal\u001b[0m\u001b[1;33m(\u001b[0m\u001b[1;33m)\u001b[0m\u001b[1;33m:\u001b[0m\u001b[1;33m\u001b[0m\u001b[1;33m\u001b[0m\u001b[0m\n\u001b[0;32m      4\u001b[0m             \u001b[0mi\u001b[0m \u001b[1;33m=\u001b[0m \u001b[0mequation\u001b[0m\u001b[1;33m.\u001b[0m\u001b[0mreplace\u001b[0m\u001b[1;33m(\u001b[0m\u001b[0mi\u001b[0m\u001b[1;33m,\u001b[0m \u001b[1;34m' '\u001b[0m\u001b[1;33m)\u001b[0m\u001b[1;33m\u001b[0m\u001b[1;33m\u001b[0m\u001b[0m\n\u001b[1;32m----> 5\u001b[1;33m     \u001b[0mresult\u001b[0m \u001b[1;33m=\u001b[0m \u001b[0mlist\u001b[0m\u001b[1;33m(\u001b[0m\u001b[0mmap\u001b[0m\u001b[1;33m(\u001b[0m\u001b[0mint\u001b[0m\u001b[1;33m,\u001b[0m \u001b[0mequation\u001b[0m\u001b[1;33m.\u001b[0m\u001b[0msplit\u001b[0m\u001b[1;33m(\u001b[0m\u001b[1;33m)\u001b[0m\u001b[1;33m)\u001b[0m\u001b[1;33m)\u001b[0m\u001b[1;33m\u001b[0m\u001b[1;33m\u001b[0m\u001b[0m\n\u001b[0m\u001b[0;32m      6\u001b[0m     \u001b[1;32mreturn\u001b[0m \u001b[0mresult\u001b[0m\u001b[1;33m\u001b[0m\u001b[1;33m\u001b[0m\u001b[0m\n",
      "\u001b[1;31mValueError\u001b[0m: invalid literal for int() with base 10: '123+2-124'"
     ]
    }
   ],
   "source": [
    "print(calc('123+2-124'))\n",
    "print(calc('-12+12-7979+9191'))\n",
    "print(calc('+1-1+1-1+1-1+1-1+1-1+1-1+1-1+1-1+1-1+1-1+1-1+1-1+1-1+1-1+1-1+1-1'))"
   ]
  },
  {
   "cell_type": "code",
   "execution_count": null,
   "metadata": {},
   "outputs": [],
   "source": []
  }
 ],
 "metadata": {
  "kernelspec": {
   "display_name": "Python 3",
   "language": "python",
   "name": "python3"
  },
  "language_info": {
   "codemirror_mode": {
    "name": "ipython",
    "version": 3
   },
   "file_extension": ".py",
   "mimetype": "text/x-python",
   "name": "python",
   "nbconvert_exporter": "python",
   "pygments_lexer": "ipython3",
   "version": "3.7.3"
  },
  "latex_envs": {
   "LaTeX_envs_menu_present": true,
   "autoclose": false,
   "autocomplete": true,
   "bibliofile": "biblio.bib",
   "cite_by": "apalike",
   "current_citInitial": 1,
   "eqLabelWithNumbers": true,
   "eqNumInitial": 1,
   "hotkeys": {
    "equation": "Ctrl-E",
    "itemize": "Ctrl-I"
   },
   "labels_anchors": false,
   "latex_user_defs": false,
   "report_style_numbering": false,
   "user_envs_cfg": false
  },
  "toc": {
   "base_numbering": 1,
   "nav_menu": {},
   "number_sections": true,
   "sideBar": true,
   "skip_h1_title": false,
   "title_cell": "Table of Contents",
   "title_sidebar": "Contents",
   "toc_cell": false,
   "toc_position": {},
   "toc_section_display": true,
   "toc_window_display": false
  }
 },
 "nbformat": 4,
 "nbformat_minor": 2
}
